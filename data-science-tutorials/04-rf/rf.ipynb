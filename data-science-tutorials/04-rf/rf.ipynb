{
  "cells": [
    {
      "cell_type": "raw",
      "metadata": {},
      "source": [
        "---\n",
        "title: Predictive Modeling - Tree-Based Models\n",
        "author: 'Dr. Roch Nianogo, Bowen Zhang, Dr. Hua Zhou'\n",
        "format:\n",
        "  html:\n",
        "    theme: cosmo\n",
        "    embed-resources: true\n",
        "    number-sections: true\n",
        "    toc: true\n",
        "    toc-depth: 4\n",
        "    toc-location: left\n",
        "    code-fold: false\n",
        "    link-external-icon: true\n",
        "    link-external-newwindow: true\n",
        "knitr:\n",
        "  opts_chunk:\n",
        "    cache: false\n",
        "    echo: true\n",
        "    fig.align: center\n",
        "    message: false\n",
        "comments:\n",
        "  hypothesis: true\n",
        "---"
      ]
    },
    {
      "cell_type": "code",
      "metadata": {},
      "source": [
        "#| code-fold: true\n",
        "#| output: false\n",
        "\n",
        "library(tidyverse)\n",
        "library(tidycensus)\n",
        "census_api_key(\"4cf445b70eabd0b297a45e7f62f52c27ba3b5cae\",\n",
        "               install = TRUE, overwrite = TRUE)\n",
        "Sys.setenv(\"CENSUS_KEY\" = \"4cf445b70eabd0b297a45e7f62f52c27ba3b5cae\")\n",
        "\n",
        "library(censusapi)\n",
        "library(ggplot2)\n",
        "library(knitr)\n",
        "library(ranger)\n",
        "library(tidymodels)"
      ],
      "execution_count": null,
      "outputs": []
    },
    {
      "cell_type": "markdown",
      "metadata": {},
      "source": [
        "## Roadmap\n",
        "\n",
        "::: {style=\"text-align: center;\"}\n",
        "![Data Science Diagram](../01-dsintro/data-science.png)\n",
        ":::\n",
        "\n",
        "```{=html}\n",
        "<iframe src=\"https://app.sli.do/event/aGHTYktNjhMJFDCe92w9Rt/embed/polls/c7b77562-59a7-48a6-8530-ee06904d8c76\" width=\"75%\" height=\"500\" data-external=\"1\"></iframe>\n",
        "```\n",
        "[Slido](https://app.sli.do/event/aGHTYktNjhMJFDCe92w9Rt/embed/polls/c7b77562-59a7-48a6-8530-ee06904d8c76)\n",
        "\n",
        "## Classification and regression trees (CART)\n",
        "\n",
        "A CART model is a tree structure consisting of a set of nested decision rules. At each node $i$, the feature dimension $d_i$ of the input vector $\\mathbf x$ is compared to a threshold value $t_i$, and the input is then passed down to the left or right branch, depending on whether it is above or below threshold. (For categorical values, we compare if $x_{d_i}$ is equal to the target value $t_i$ or not.) At the leaves of the tree, the model specifies a distribution over the output for points that are in that part of the input space.\n",
        "\n",
        "Formally, a CART model can be defined by\n",
        "\n",
        "$$\n",
        "T(\\mathbf x; \\theta) = \\sum_{j=1}^J w_j \\mathbf 1(\\mathbf x \\in R_j)\n",
        "$$\n",
        "\n",
        "where $R_j$ is the region specified by the $j$’th leaf node, $w_j$ is the predicted output for that node, and $\\boldsymbol \\theta = \\{ (R_j, w_j): j = 1:J \\}$ (For regression, the predicted output for each leaf $w_j$ is a scalar; for classification, it can be the logits or class probabilities.)\n",
        "\n",
        "::: {style=\"text-align: center;\"}\n",
        "<img src=\"./18_1.jpg\" alt=\"default\" width=\"750\"/>\n",
        ":::\n",
        "\n",
        "Tree-based models are non-parametric models, so the loss function is not differentiable. Instead, The standard practice is to use a greedy procedure, in which we iteratively grow the tree one node at a time. This approach is used by CART, C4.5, and ID3, which are three popular implementations of the method.\n",
        "\n",
        "For classification, we first compute the empirical distribution over class labels for this node:\n",
        "\n",
        "$$\n",
        "\\widehat \\pi_{i,c} = \\frac{1}{|D_i|} \\sum_{n \\in D_i} \\mathbf 1(y_n = c)\n",
        "$$\n",
        "\n",
        "Given this, we can then compute the **Gini index**:\n",
        "\n",
        "$$\n",
        "G_i = \\sum_{c=1}^C \\widehat \\pi_{i,c} (1 - \\widehat \\pi_{i,c})\n",
        "$$\n",
        "\n",
        "This is the expected error rate. To see this, note that $\\widehat \\pi_{i,c}$ is the probability a random entry in the leaf belongs to class $c$, and $1 - \\widehat \\pi_{i,c}$ is the probability it would be misclassified.\n",
        "\n",
        "Each node in the tree is a partition of the input space. If we want to further partition the space into left and right subtrees, we choose the best feature $j_i$ to split on, and the best value for that feature $t_i$, as follows:\n",
        "\n",
        "$$\n",
        "(j_i, t_i) = \\arg \\min_{j,t} \\left[ \\frac{|D_{i}^L(j,t)|}{|D_i|} G_{i}^L(j,t) + \\frac{|D_{i}^R(j,t)|}{|D_i|} G_{i}^R(j,t) \\right]\n",
        "$$\n",
        "\n",
        "Alternatively we can replace the Gini index by the **entropy** or deviance of the node:\n",
        "\n",
        "$$\n",
        "H_i = - \\sum_{c=1}^C \\widehat \\pi_{i,c} \\log \\widehat \\pi_{i,c}\n",
        "$$\n",
        "\n",
        "A node that is pure (i.e., only has examples of one class) will have 0 entropy.\n",
        "\n",
        "According to the above rule, we can pick the best feature, and best threshold at each node. We then partition the data, and call the fitting algorithm recursively on each subset of the data.\n",
        "\n",
        "If we let the tree become deep enough, it can achieve 0 error on the training set (assuming no label noise), by partitioning the input space into sufficiently small regions where the output is constant. However, this will typically result in overfitting. To prevent this, there are two main approaches: The first is to stop the tree growing process according to some heuristic. The second approach is to grow the tree to its maximum depth, where no more splits are possible, and then to prune it back.\n",
        "\n",
        "-   Advantages of trees\n",
        "    -   Trees are easy to interpret.\n",
        "    -   Some people believe that decision trees more closely mirror human decision-making.\n",
        "    -   Trees can be displayed graphically.\n",
        "    -   Trees can easily handle qualitative predictors.\n",
        "-   Disadvantages of trees\n",
        "    -   Trees can have bad predictions.\n",
        "    -   Trees can be very non-robust.\n",
        "\n",
        "## Bagging, random forests, boosting\n",
        "\n",
        "### Bagging\n",
        "\n",
        "The decision trees suffer from high variance. This means that if we split the training data into two parts at random, and fit a decision tree to both halves, the results that we get could be quite different.\n",
        "\n",
        "Bootstrap aggregation, or bagging, is a general-purpose procedure for reducing the bagging variance of a statistical learning method.\n",
        "\n",
        "**Averaging a set of observations reduces variance**, we generate B different bootstrapped training data sets to get $\\hat f^{*b}(x)$. We then train our method on the $b$th bootstrapped training set, and finally average all the predictions, to obtain\n",
        "\n",
        "$$\n",
        "\\hat f_{\\text{bag}}(x) =  \\frac{1}{B} \\sum_{b=1}^B \\hat f^{*b}(x)\n",
        "$$\n",
        "\n",
        "Bagging has been demonstrated to give impressive improvements in accuracy by combining together hundreds or even thousands of trees into a single procedure.\n",
        "\n",
        "### Random forests\n",
        "\n",
        "Random forests provide an improvement over bagged trees by way of a small tweak that decorrelates the trees. As in bagging, we build a number of decision trees on bootstrapped training samples. But when building these decision trees, each time a split in a tree is considered, a random sample of $m$ predictors is chosen as split candidates from the full set of $p$ predictors. **The split is allowed to use only one of those** $m$ **predictors**. Using a small value of m in building a random forest will typically be helpful when we have a large number of correlated predictors.\n",
        "\n",
        "### Boosting\n",
        "\n",
        "Boosting works in a similar way as bagging, except that **the trees are grown sequentially**: each tree is grown using information from previously grown trees. Boosting does not involve bootstrap sampling; instead each tree is fit on a modified version of the original data set.\n",
        "\n",
        "For binary classification problem, each classifier $F_m \\in \\{-1, +1\\}$. In particular, we first $F_1$ on the original data, and then we weight the data samples by the errors made by $F_1$, so misclassified examples get more weight. Next we fit $F_2$ to this weighted data set. We keep repeating this process until we have fit the desired number $M$ of components.\n",
        "\n",
        "It can be shown that, as long as each $F_m$ has an accuracy that is better than chance (even on the weighted dataset), then the final ensemble of classifiers will have higher accuracy than any given component. That is, if $F_m$ is a **weak learner** (so its accuracy is only slightly better than 50%), then we can boost its performance using the above procedure so that the final f becomes a **strong learner**.\n",
        "\n",
        "Note that boosting reduces the bias of the strong learner, by fitting trees that depend on each other, whereas bagging and RF reduce the variance by fitting independent trees. In many cases, boosting can work better (but take more time to train).\n",
        "\n",
        "## Random forest workflow\n",
        "\n",
        "We load the Food Security Supplement household data we curated earlier. Our goal is to predict food insecurity status using household's socio-economical status."
      ]
    },
    {
      "cell_type": "code",
      "metadata": {},
      "source": [
        "data_clean <- read_rds(\"../02-wrangle/fss21.rds\") |> \n",
        "  print()"
      ],
      "execution_count": null,
      "outputs": []
    },
    {
      "cell_type": "markdown",
      "metadata": {},
      "source": [
        "### Initial split into test and non-test sets"
      ]
    },
    {
      "cell_type": "code",
      "metadata": {},
      "source": [
        "# For reproducibility\n",
        "set.seed(2024)\n",
        "\n",
        "data_split <- initial_split(\n",
        "  data_clean, \n",
        "  # stratify by HRFS12M1\n",
        "  strata = \"HRFS12M1_binary\", \n",
        "  prop = 0.75\n",
        "  )\n",
        "\n",
        "data_other <- training(data_split)\n",
        "dim(data_other)\n",
        "\n",
        "data_test <- testing(data_split)\n",
        "dim(data_test)"
      ],
      "execution_count": null,
      "outputs": []
    },
    {
      "cell_type": "markdown",
      "metadata": {},
      "source": [
        "### Recipe"
      ]
    },
    {
      "cell_type": "code",
      "metadata": {},
      "source": [
        "recipe <- \n",
        "  recipe(\n",
        "    HRFS12M1_binary ~ .,\n",
        "    data = data_other\n",
        "  ) |>\n",
        "  # remove the weights and original HRFS12M1\n",
        "  step_rm(HHSUPWGT, HRFS12M1) |>\n",
        "  # create dummy variables for categorical predictors\n",
        "  step_dummy(all_nominal_predictors()) |>\n",
        "  # zero-variance filter\n",
        "  step_zv(all_numeric_predictors()) |> \n",
        "  # center and scale numeric data\n",
        "  step_normalize(all_numeric_predictors()) |>\n",
        "  # estimate the means and standard deviations\n",
        "  print()"
      ],
      "execution_count": null,
      "outputs": []
    },
    {
      "cell_type": "markdown",
      "metadata": {},
      "source": [
        "### Model"
      ]
    },
    {
      "cell_type": "code",
      "metadata": {},
      "source": [
        "rf_mod <- rand_forest(\n",
        "    mode = \"classification\",\n",
        "    # Number of predictors randomly sampled in each split\n",
        "    mtry = tune(),\n",
        "    # Number of trees in ensemble\n",
        "    trees = tune()\n",
        "  ) |> \n",
        "  set_engine(\"ranger\")\n",
        "rf_mod"
      ],
      "execution_count": null,
      "outputs": []
    },
    {
      "cell_type": "markdown",
      "metadata": {},
      "source": [
        "### Workflow"
      ]
    },
    {
      "cell_type": "code",
      "metadata": {},
      "source": [
        "rf_wf <- workflow() |>\n",
        "  add_recipe(recipe) |>\n",
        "  add_model(rf_mod)\n",
        "rf_wf"
      ],
      "execution_count": null,
      "outputs": []
    },
    {
      "cell_type": "markdown",
      "metadata": {},
      "source": [
        "### Tuning grid"
      ]
    },
    {
      "cell_type": "code",
      "metadata": {},
      "source": [
        "param_grid <- grid_regular(\n",
        "  trees(range = c(200L, 800L)), \n",
        "  mtry(range = c(1L, 5L)),\n",
        "  levels = c(7, 5)\n",
        "  )\n",
        "param_grid"
      ],
      "execution_count": null,
      "outputs": []
    },
    {
      "cell_type": "markdown",
      "metadata": {},
      "source": [
        "### Cross-validation (CV)\n",
        "\n",
        "Set cross-validation partitions."
      ]
    },
    {
      "cell_type": "code",
      "metadata": {},
      "source": [
        "set.seed(2024)\n",
        "\n",
        "folds <- vfold_cv(data_other, v = 5)\n",
        "folds"
      ],
      "execution_count": null,
      "outputs": []
    },
    {
      "cell_type": "markdown",
      "metadata": {},
      "source": [
        "Fit cross-validation."
      ]
    },
    {
      "cell_type": "code",
      "metadata": {},
      "source": [
        "set.seed(2024)\n",
        "\n",
        "(rf_fit <- rf_wf |>\n",
        "  tune_grid(\n",
        "    resamples = folds,\n",
        "    grid = param_grid,\n",
        "    metrics = metric_set(roc_auc, accuracy)\n",
        "    )) |> \n",
        "  system.time()"
      ],
      "execution_count": null,
      "outputs": []
    },
    {
      "cell_type": "markdown",
      "metadata": {},
      "source": [
        "Visualize CV results:"
      ]
    },
    {
      "cell_type": "code",
      "metadata": {},
      "source": [
        "rf_fit |>\n",
        "  collect_metrics() |>\n",
        "  print(width = Inf) |>\n",
        "  filter(.metric == \"roc_auc\") |>\n",
        "  ggplot(mapping = aes(x = trees, y = mean, color = factor(mtry))) +\n",
        "  geom_point() + \n",
        "  # geom_line() + \n",
        "  labs(x = \"Num. of Trees\", y = \"CV AUC\")"
      ],
      "execution_count": null,
      "outputs": []
    },
    {
      "cell_type": "markdown",
      "metadata": {},
      "source": [
        "Show the top 5 models."
      ]
    },
    {
      "cell_type": "code",
      "metadata": {},
      "source": [
        "rf_fit |>\n",
        "  show_best(metric = \"roc_auc\")"
      ],
      "execution_count": null,
      "outputs": []
    },
    {
      "cell_type": "markdown",
      "metadata": {},
      "source": [
        "Let’s select the best model."
      ]
    },
    {
      "cell_type": "code",
      "metadata": {},
      "source": [
        "best_rf <- rf_fit |>\n",
        "  select_best(metric = \"roc_auc\")\n",
        "best_rf"
      ],
      "execution_count": null,
      "outputs": []
    },
    {
      "cell_type": "markdown",
      "metadata": {},
      "source": [
        "### Final model"
      ]
    },
    {
      "cell_type": "code",
      "metadata": {},
      "source": [
        "# Final workflow\n",
        "final_wf <- rf_wf |>\n",
        "  finalize_workflow(best_rf)\n",
        "\n",
        "final_fit <- \n",
        "  final_wf |>\n",
        "  last_fit(data_split)\n",
        "\n",
        "# Test metrics\n",
        "final_fit |> \n",
        "  collect_metrics()"
      ],
      "execution_count": null,
      "outputs": []
    },
    {
      "cell_type": "markdown",
      "metadata": {},
      "source": [
        "Random forest model has a better test performance than logistic regression model in terms of AUC.\n",
        "\n",
        "## Feedback\n",
        "\n",
        "```{=html}\n",
        "<iframe src=\"https://app.sli.do/event/aGHTYktNjhMJFDCe92w9Rt/embed/polls/449510f0-6577-4dbb-a535-c0acd9aba906\" width=\"75%\" height=\"400\" data-external=\"1\"></iframe>\n",
        "```\n",
        "[Slido](https://app.sli.do/event/aGHTYktNjhMJFDCe92w9Rt/embed/polls/449510f0-6577-4dbb-a535-c0acd9aba906)"
      ]
    }
  ],
  "metadata": {
    "kernelspec": {
      "name": "ir43",
      "language": "R",
      "display_name": "R 4.3.2"
    }
  },
  "nbformat": 4,
  "nbformat_minor": 4
}