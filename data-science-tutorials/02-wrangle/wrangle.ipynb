{
  "cells": [
    {
      "cell_type": "raw",
      "metadata": {},
      "source": [
        "---\n",
        "title: 'Current Population Survey Food Security Supplement - Ingest, Wrangle, Visualize'\n",
        "author: 'Dr. Roch Nianogo, Bowen Zhang, Dr. Hua Zhou'\n",
        "format:\n",
        "  html:\n",
        "    theme: cosmo\n",
        "    embed-resources: true\n",
        "    number-sections: true\n",
        "    toc: true\n",
        "    toc-depth: 4\n",
        "    toc-location: left\n",
        "    code-fold: false\n",
        "    link-external-icon: true\n",
        "    link-external-newwindow: true\n",
        "knitr:\n",
        "  opts_chunk:\n",
        "    cache: false\n",
        "    echo: true\n",
        "    fig.align: center\n",
        "    message: false\n",
        "comments:\n",
        "  hypothesis: true\n",
        "---"
      ]
    },
    {
      "cell_type": "code",
      "metadata": {},
      "source": [
        "#| code-fold: true\n",
        "#| output: false\n",
        "\n",
        "# setup code: install packages, API keys\n",
        "library(tidyverse)\n",
        "library(tidycensus)\n",
        "census_api_key(\"4cf445b70eabd0b297a45e7f62f52c27ba3b5cae\",\n",
        "               install = TRUE, overwrite = TRUE)\n",
        "Sys.setenv(\"CENSUS_KEY\" = \"4cf445b70eabd0b297a45e7f62f52c27ba3b5cae\")\n",
        "\n",
        "library(censusapi)\n",
        "library(gtsummary)\n",
        "library(maps)\n",
        "library(plotly)\n",
        "library(tigris)"
      ],
      "execution_count": null,
      "outputs": []
    },
    {
      "cell_type": "markdown",
      "metadata": {},
      "source": [
        "## Roadmap\n",
        "\n",
        "A typical data science project:\n",
        "\n",
        "<p align=\"center\">\n",
        "\n",
        "![](../01-dsintro/data-science.png){fig-align=\"center\" width=\"80%\"}\n",
        "\n",
        "</p>\n",
        "\n",
        "In this tutorial, we ingest, tidy, transform, and visualize the 2021 Current Population Survey Food Security Supplement (CPS-FSS) data. We calculate the prevalence of food insecurity in the US and visualize the disparity in terms of geographic regions and other socio-economical factors.\n",
        "\n",
        "```{=html}\n",
        "<iframe src=\"https://app.sli.do/event/aGHTYktNjhMJFDCe92w9Rt/embed/polls/c5978882-4e0c-4de0-afca-85f6ab4482b7\" width=\"75%\" height=\"500\" data-external=\"1\"></iframe>\n",
        "```\n",
        "\n",
        "[Slido](https://app.sli.do/event/aGHTYktNjhMJFDCe92w9Rt/embed/polls/c5978882-4e0c-4de0-afca-85f6ab4482b7)\n",
        "\n",
        "## Ingest CPS-FSS Data\n",
        "\n",
        "Many datasets such as the Decennial Census since 2000 and the American Community Survey (ACS) are available through the US Census Bureau’s APIs and in turn accessible with [`tidycensus`](https://walker-data.com/tidycensus/) and related tools. However, the CPS-FSS data is not available through the `tidycensus` package, which only focuses on core datasets. Other R packages provide support for the wide range of datasets available from the Census Bureau and other government agencies. `censusapi` package, for example, allows for programmatic access to all US Census Bureau APIs.\n",
        "\n",
        "### Sign up for a Census API key\n",
        "\n",
        "Sign up for a Census API key at <https://api.census.gov/data/key_signup.html> and install the key.\n",
        "\n",
        "```         \n",
        "# Set the Census API key in the environment\n",
        "Sys.setenv(\"CENSUS_KEY\" = \"PUT YOUR KEY HERE\")\n",
        "```\n",
        "\n",
        "### censusapi package\n",
        "\n",
        "[censusapi](https://github.com/hrecht/censusapi) is a lightweight package to get data from the U.S. It uses the same Census API key as `tidycensus`, though references it with the R environment variable `CENSUS_KEY`. If this environment variable is set in a user’s `.Renviron` file, functions in `censusapi` will pick up the key without having to supply it directly.\n",
        "\n",
        "-   `listCensusApis()`: Get useful dataset metadata on all available APIs as a data frame.\n",
        "\n",
        "-   `listCensusMetadata()`: Get information about a specific API as a data frame.\n",
        "\n",
        "-   `getCensus()`: Retrieve Census data from a given API.\n",
        "\n",
        "-   `makeVarlist()`: Use variable metadata to find variables containing a given string.\n",
        "\n",
        "`censusapi`’s core function is `getCensus()`, which translates R code to Census API queries. The `name` argument references the API name; the `censusapi` documentation or the function `listCensusApis()` helps you understand how to format this.\n",
        "\n",
        "#### List available APIs by `listCensusApis()`\n",
        "\n",
        "To see a current table of every available endpoint, run `listCensusApis()`:"
      ]
    },
    {
      "cell_type": "code",
      "metadata": {},
      "source": [
        "censusapi::listCensusApis() |> \n",
        "  # convert data.frame to tibble\n",
        "  as_tibble() |>\n",
        "  # only keep the columns needed\n",
        "  select(title, name, vintage, type, temporal, url) |>\n",
        "  print()"
      ],
      "execution_count": null,
      "outputs": []
    },
    {
      "cell_type": "markdown",
      "metadata": {},
      "source": [
        "`listCensusApis()` returns a dataframe that includes: title, description, name, vintage, url, dataset type, and other useful fields. Search for the dataset you are interested in.\n",
        "\n",
        "Now we are interested in Food Security Supplement. We can search for the keyword \"Food Security\" in the column `title` of the table above, and see which year of data is available."
      ]
    },
    {
      "cell_type": "code",
      "metadata": {},
      "source": [
        "censusapi::listCensusApis() |>\n",
        "  filter(str_detect(title, \"Food Security\"), vintage >= 2019) |>\n",
        "  select(title, name, vintage, type, description)"
      ],
      "execution_count": null,
      "outputs": []
    },
    {
      "cell_type": "markdown",
      "metadata": {},
      "source": [
        "#### Metadata for a specific API by `listCensusMetadata()`\n",
        "\n",
        "Get the metadata for the CPS Food Security Supplement December 2021 Public-Use Microdata File"
      ]
    },
    {
      "cell_type": "code",
      "metadata": {},
      "source": [
        "censusapi::listCensusMetadata(\n",
        "  name = \"cps/foodsec/dec\", \n",
        "  vintage = 2021\n",
        "  ) |>\n",
        "  as_tibble() |>\n",
        "  print()"
      ],
      "execution_count": null,
      "outputs": []
    },
    {
      "cell_type": "markdown",
      "metadata": {},
      "source": [
        "#### Request data by `getCensus()`\n",
        "\n",
        "The example below makes a request to API for the CPS Food Security Supplement December 2021 Public-Use Microdata File. The `name` argument is set to \"cps/foodsec/dec\" and the `vintage` argument is set to 2021. If we are interested in Household Food Security Scale, then for the `vars` argument, we should include the following terms:\n",
        "\n",
        "-   HRHHID: Household ID\n",
        "-   HRHHID2: Household ID (Part 2)\n",
        "-   PERRP: Relationship to Reference Person\n",
        "-   GESTFIPS: State FIPS Code\n",
        "-   GTCO: County Code\n",
        "-   HRFS12M1: Summary Food Security Status, 12-Month\n",
        "    -   1 = Food Secure High or Marginal Food Security\n",
        "    -   2 = Low Food Security\n",
        "    -   3 = Very Low Food Security\n",
        "    -   -1 = Not in Universe (In this variable, not interviewed)\n",
        "    -   -9 = No Response\n",
        "-   HHSUPWGT: Household Supplemental Weight"
      ]
    },
    {
      "cell_type": "code",
      "metadata": {},
      "source": [
        "fss_21_status <- censusapi::getCensus(\n",
        "  name = \"cps/foodsec/dec\",\n",
        "  vintage = 2021,\n",
        "  # vars is required\n",
        "  vars = c(\"HRHHID\", \"HRHHID2\", \"PERRP\",\n",
        "           \"GESTFIPS\", \"GTCO\", \"HRFS12M1\",\n",
        "           \"HHSUPWGT\") \n",
        "  ) |>\n",
        "  as_tibble() |>\n",
        "  print()"
      ],
      "execution_count": null,
      "outputs": []
    },
    {
      "cell_type": "markdown",
      "metadata": {},
      "source": [
        "Notice that some columns are not in the format we want. For example, **HRFS12M1** (Food Security Status) should be a categorical variable, and we want to convert it to a factor with meaningful labels. Also, **HHSUPWGT** (Household Supplemental Weight) was ingested as a character variable, and we want to convert it to a numeric variable."
      ]
    },
    {
      "cell_type": "code",
      "metadata": {},
      "source": [
        "fss_21_status |>\n",
        "  filter(HRFS12M1 != \"-1\") |>\n",
        "  mutate(\n",
        "    HRFS12M1 = factor(HRFS12M1,\n",
        "                      levels = c(\"1\", \"2\", \"3\", \"-9\"),\n",
        "                      labels = c(\"Food Security\",\n",
        "                                 \"Low Food Security\",\n",
        "                                 \"Very Low Food Security\",\n",
        "                                 \"No Response\")),\n",
        "    HHSUPWGT = as.numeric(HHSUPWGT),\n",
        "    PERRP = as.numeric(PERRP),\n",
        "    HRHHID2 = as.character(HRHHID2)\n",
        "    )"
      ],
      "execution_count": null,
      "outputs": []
    },
    {
      "cell_type": "markdown",
      "metadata": {},
      "source": [
        "In addition to checking the document and encoding labels manually, `listCensusMetadata()` offers a way to get the value labels of specific variables. This can be useful for understanding the meaning of variables and their values."
      ]
    },
    {
      "cell_type": "code",
      "metadata": {},
      "source": [
        "HRFS12M1_lb <- censusapi::listCensusMetadata(\n",
        "  name = \"cps/foodsec/dec\",\n",
        "  vintage = 2021,\n",
        "  type = \"values\",\n",
        "  variable = \"HRFS12M1\"\n",
        "  ) |>\n",
        "  as_tibble() |>\n",
        "  print()"
      ],
      "execution_count": null,
      "outputs": []
    },
    {
      "cell_type": "markdown",
      "metadata": {},
      "source": [
        "Therefore, we can also use the following code to convert the variable `HRFS12M1` to a factor with meaningful labels."
      ]
    },
    {
      "cell_type": "code",
      "metadata": {},
      "source": [
        "fss_21_status <- fss_21_status |>\n",
        "  filter(HRFS12M1 != \"-1\") |>\n",
        "  mutate(HRFS12M1 = factor(HRFS12M1,\n",
        "                           levels = HRFS12M1_lb$code,\n",
        "                           labels = HRFS12M1_lb$label),\n",
        "         HHSUPWGT = as.numeric(HHSUPWGT),\n",
        "         PERRP = as.numeric(PERRP),\n",
        "         HRHHID2 = as.character(HRHHID2)) |>\n",
        "  print()"
      ],
      "execution_count": null,
      "outputs": []
    },
    {
      "cell_type": "markdown",
      "metadata": {},
      "source": [
        "## Constructing household characteristics from person records\n",
        "\n",
        "To compute some household characteristics (such as household size, presence of children, or presence of elderly members), it is necessary to identify the records of all persons in the same household. Households within the December CPS-FSS are uniquely and completely identified by two household identifiers in combination, **HRHHID** and **HRHHID2**. Characteristics of the household reference person can be assigned from the person record with **PERRP** 40 or 41, which will always be the record with the lowest-numbered PERRP in the household.\n",
        "\n",
        "**HRFS12M1** (Summary Food Security Status, 12-Month) is one of the household characteristics. This is the variable used for most food security statistics in USDA’s annual food security report series. In order to compute the prevalence of food insecurity, we need to aggregate the food security status of all persons in the same household. `tbl_summary()` in the `gtsummary` package can generate beautiful summary tables."
      ]
    },
    {
      "cell_type": "code",
      "metadata": {},
      "source": [
        "fss_21_status <- fss_21_status |>\n",
        "  # # Filter observations with PERRP 40 or 41 (reference person in the household) \n",
        "  # filter(PERRP %in% c(40, 41)) |>\n",
        "  # # Arrange by PERRP\n",
        "  # arrange(PERRP) |>\n",
        "  # Keep the record with the lowest-numbered PERRP in the household\n",
        "  group_by(HRHHID, HRHHID2) |>\n",
        "  slice_min(PERRP, n = 1) |>\n",
        "  ungroup() |>\n",
        "  print()"
      ],
      "execution_count": null,
      "outputs": []
    },
    {
      "cell_type": "code",
      "metadata": {},
      "source": [
        "# Display number and proportion of households in different food security status\n",
        "fss_21_status |>\n",
        "  select(HRFS12M1) |>\n",
        "  gtsummary::tbl_summary()"
      ],
      "execution_count": null,
      "outputs": []
    },
    {
      "cell_type": "markdown",
      "metadata": {},
      "source": [
        "**Exercise**: display the bar plot of variable **`HRFS12M1`**."
      ]
    },
    {
      "cell_type": "code",
      "metadata": {},
      "source": [
        "# geom_bar"
      ],
      "execution_count": null,
      "outputs": []
    },
    {
      "cell_type": "markdown",
      "metadata": {},
      "source": [
        "Notice that there are 27,357 + 1,844 + 1,093 + 49 = 30,343 households who attended the interview for Food Security Supplement in 2021, which matches the number in the technical documentation.\n",
        "\n",
        "The CPS is a complex probability sample, and interviewed households, as well as persons in those households, are assigned weights so that the full interviewed sample represents the total national non-institutionalized civilian population. Initial weights are assigned based on probability of selection into the sample, and weights are then adjusted iteratively to match population controls for selected demographic characteristics at State and national levels. There are two sets of household and person weights in this data file: (1) labor force survey weights, and (2) Food Security Supplement weights.\n",
        "\n",
        "We can use `makeVarlist()` function in `censusapi` package to get the list of variables in the dataset. In addition to the description and the type of each variable, we can also check column **suggested_weight** to see which weight should be used for the analysis."
      ]
    },
    {
      "cell_type": "code",
      "metadata": {},
      "source": [
        "censusapi::makeVarlist(\n",
        "  name = \"cps/foodsec/dec\",\n",
        "  vintage = 2021,\n",
        "  find = \"\",\n",
        "  output = \"dataframe\"\n",
        "  ) |>\n",
        "  as_tibble() |>\n",
        "  filter(name %in% c(\"HRHHID\", \"HRHHID2\", \"PERRP\",\n",
        "                     \"GESTFIPS\", \"HRFS12M1\", \"HHSUPWGT\")) |>\n",
        "  select(-c(concept, group, predicateOnly)) |>\n",
        "  print()"
      ],
      "execution_count": null,
      "outputs": []
    },
    {
      "cell_type": "markdown",
      "metadata": {},
      "source": [
        "Now we are interested in how much percentage of households with low food security and very low food security in 2021.\n",
        "\n",
        "-   Identify the variables needed:\n",
        "\n",
        "    HRFS12M1: Summary Food Security Status, 12-Month\n",
        "\n",
        "    HRFS12M1 = 2 OR HRFS12M1 = 3 (Low Food Security OR Very Low Food Security)\n",
        "\n",
        "-   Identify the statistical weight needed:\n",
        "\n",
        "    HHSUPWGT: Household Weight for Supplement Household\n",
        "\n",
        "-   Perform the calculation:\n",
        "\n",
        "    The rate is given by\n",
        "\n",
        "    $$\n",
        "    \\text{Rate} = \\frac{\\sum_i w_i \\cdot L_i}{\\sum_i w_i \\cdot H_i} \\times 100\\%\n",
        "    $$\n",
        "\n",
        "    where $L_i$ is an indicator variable that equals 1 if household $i$ is in low food security or very low food security, and 0 otherwise; $H_i$ is an indicator variable that equals 1 if household $i$ attended the interview for Food Security Supplement and had a response to this question, and 0 otherwise; and $w_i$ is the weight of household $i$."
      ]
    },
    {
      "cell_type": "code",
      "metadata": {},
      "source": [
        "fss_21_status <- fss_21_status |>\n",
        "  mutate(HRFS12M1_low = ifelse(HRFS12M1 %in% c(\"Low Food Security\",\n",
        "                                               \"Very Low Food Security\"),\n",
        "                               1, 0) * HHSUPWGT,\n",
        "         HRFS12M1_res = ifelse(HRFS12M1 == \"No Response\", 0, 1) * HHSUPWGT\n",
        "  ) |>\n",
        "  print()"
      ],
      "execution_count": null,
      "outputs": []
    },
    {
      "cell_type": "code",
      "metadata": {},
      "source": [
        "# percentage of households with low or very low food security in 2021 \n",
        "sum(fss_21_status$HRFS12M1_low) / sum(fss_21_status$HRFS12M1_res) * 100"
      ],
      "execution_count": null,
      "outputs": []
    },
    {
      "cell_type": "markdown",
      "metadata": {},
      "source": [
        "The percentage of households with low food security or very low food security in 2021 is 10.23%. We can verify this result by comparing this number to the USDA Economic Research Report [Household Food Security in the United States in 2021](https://www.ers.usda.gov/webdocs/publications/104656/err-309.pdf?v=7855.7) Figure 1.\n",
        "\n",
        "Since we have already computed the rate of low food security in 2021. We can further investigate the rate of low food security in each state.\n",
        "\n",
        "We first need to match the FIPS code to the state names using `fips_codes()` function in `tigris` package."
      ]
    },
    {
      "cell_type": "code",
      "metadata": {},
      "source": [
        "# Get the state names\n",
        "state_names <- tigris::fips_codes |>\n",
        "  select(state, state_code, state_name) |>\n",
        "  distinct() |>\n",
        "  as_tibble() |>\n",
        "  print()"
      ],
      "execution_count": null,
      "outputs": []
    },
    {
      "cell_type": "markdown",
      "metadata": {},
      "source": [
        "Now we can compute the rate of low food security in each state."
      ]
    },
    {
      "cell_type": "code",
      "metadata": {},
      "source": [
        "fss_21_status_state <- fss_21_status |>\n",
        "  # Group by state FIPS code and calculate the rate by state\n",
        "  group_by(GESTFIPS) |>\n",
        "  summarize(HRFS12M1_low = sum(HRFS12M1_low),\n",
        "            HRFS12M1_res = sum(HRFS12M1_res)) |>\n",
        "  # Notice that state_code is a two digit number\n",
        "  # But in fss_21_status, it is single digit if the state code is less than 10\n",
        "  mutate(GESTFIPS = ifelse(as.numeric(GESTFIPS) < 10,\n",
        "                           str_c(\"0\", GESTFIPS),\n",
        "                           as.character(GESTFIPS))) |>\n",
        "  # Left join with state names\n",
        "  left_join(state_names, by = c(\"GESTFIPS\" = \"state_code\")) |>\n",
        "  mutate(low_food_security_rate = HRFS12M1_low / HRFS12M1_res * 100,\n",
        "         state_name = str_to_lower(state_name)) |>\n",
        "  print()"
      ],
      "execution_count": null,
      "outputs": []
    },
    {
      "cell_type": "markdown",
      "metadata": {},
      "source": [
        "Then we can visualize the rate of low food security in each state."
      ]
    },
    {
      "cell_type": "code",
      "metadata": {},
      "source": [
        "ggplot2::map_data(\"state\") |>\n",
        "  merge(fss_21_status_state, by.x = \"region\",\n",
        "        by.y = \"state_name\", all.x = TRUE) |>\n",
        "  ggplot(aes(x = long, y = lat, group = group,\n",
        "             fill = low_food_security_rate)) +\n",
        "  geom_polygon(color = \"black\") +\n",
        "  scale_fill_gradient(low = \"lightblue\", high = \"darkblue\",\n",
        "                      name = \"Households in Low Food Security (%)\") +\n",
        "  labs(title = \"Percentage of Households in Low Food Security by State\") +\n",
        "  theme_minimal() +\n",
        "  theme(panel.grid = element_blank(),\n",
        "        axis.text = element_blank(),\n",
        "        axis.title = element_blank(),\n",
        "        legend.position = \"bottom\") +\n",
        "  coord_fixed(ratio = 1.5)"
      ],
      "execution_count": null,
      "outputs": []
    },
    {
      "cell_type": "markdown",
      "metadata": {},
      "source": [
        "## Ingest from other data sources by R\n",
        "\n",
        "In R, we can easily ingest data in other formats to enrich the analysis.\n",
        "\n",
        "-   CSV and other text delimited data files (`.csv`, `.csv.gz`): `readr` package in tidyverse.\n",
        "\n",
        "-   Excel files (`.xls`, `.xlsx`): `readxl` package in tidyverse. `tidyxl` package for reading non-tabular data from Excel.\n",
        "\n",
        "-   Bigger-than-memory data files: `arrow` and `duckdb` packages.\n",
        "\n",
        "-   Big data (that cannot fit into a single computer): `sparklyr` package.\n",
        "\n",
        "-   Databases (SQLite, MySQL, PostgreSQL, BigQuery, etc): `DBI` package plus a database-specific backend package.\n",
        "\n",
        "-   Web scraping: `rvest` package in tidyverse.\n",
        "\n",
        "-   Social media: Twitter/X (`rtweet` package), Instagram (`instaR` package), Facebook (`Rfacebook` package).\n",
        "\n",
        "-   JSON files (`.json`): `jsonlite` package.\n",
        "\n",
        "## Exercises\n",
        "\n",
        "1.  Display the food security disparity in 2021 in terms of race, household income, education level, or other social-economic determinants."
      ]
    },
    {
      "cell_type": "code",
      "metadata": {},
      "source": [
        "#| eval: false\n",
        "#| code-fold: true\n",
        "\n",
        "# Inf about race variable PTDTRACE\n",
        "PTDTRACE_lb <- censusapi::listCensusMetadata(\n",
        "  name = \"cps/foodsec/dec\",\n",
        "  vintage = 2021,\n",
        "  type = \"values\",\n",
        "  variable = \"PTDTRACE\"\n",
        "  ) |>\n",
        "  as_tibble() |>\n",
        "  mutate(code = as.numeric(as.character(code))) |>\n",
        "  arrange(code) |>\n",
        "  print(n = Inf)"
      ],
      "execution_count": null,
      "outputs": []
    },
    {
      "cell_type": "code",
      "metadata": {},
      "source": [
        "#| eval: false\n",
        "#| code-fold: true\n",
        "\n",
        "# Ingest FSS 2021 data with race info. on household\n",
        "fss_21_race <- censusapi::getCensus(\n",
        "  name = \"cps/foodsec/dec\",\n",
        "  vintage = 2021,\n",
        "  # vars is required\n",
        "  vars = c(\"HRHHID\", \"HRHHID2\", \"PERRP\",\n",
        "           \"GESTFIPS\", \"GTCO\", \"HRFS12M1\",\n",
        "           \"HHSUPWGT\", \"PTDTRACE\")\n",
        "  ) |>\n",
        "  as_tibble() |>\n",
        "  # remove non-interviewed ones\n",
        "  filter(HRFS12M1 != \"-1\") |>\n",
        "  # enforce column data types\n",
        "  mutate(\n",
        "    HRFS12M1 = factor(HRFS12M1,\n",
        "                      levels = c(\"1\", \"2\", \"3\", \"-9\"),\n",
        "                      labels = c(\"Food Security\",\n",
        "                                 \"Low Food Security\",\n",
        "                                 \"Very Low Food Security\",\n",
        "                                 \"No Response\")),\n",
        "    HHSUPWGT = as.numeric(HHSUPWGT),\n",
        "    PERRP = as.numeric(PERRP),\n",
        "    HRHHID2 = as.character(HRHHID2),\n",
        "    PTDTRACE = factor(as.numeric(PTDTRACE),\n",
        "                      levels = PTDTRACE_lb$code,\n",
        "                      labels = PTDTRACE_lb$label) |>\n",
        "      fct_other(keep = c(\n",
        "        \"American Indian, Alaskan Native Only\",\n",
        "        \"White only\",\n",
        "        \"Black only\",\n",
        "        \"Asian only\",\n",
        "        \"Hawaiian/Pacific Islander Only\"\n",
        "        ))\n",
        "  ) |>\n",
        "  # only keep reference person per household\n",
        "  group_by(HRHHID, HRHHID2) |>\n",
        "  slice_min(PERRP) |>\n",
        "  ungroup() |>\n",
        "  print()"
      ],
      "execution_count": null,
      "outputs": []
    },
    {
      "cell_type": "code",
      "metadata": {},
      "source": [
        "#| eval: false\n",
        "#| code-fold: true\n",
        "\n",
        "# Summarize race information\n",
        "fss_21_race |>\n",
        "  select(PTDTRACE) |>\n",
        "  gtsummary::tbl_summary()"
      ],
      "execution_count": null,
      "outputs": []
    },
    {
      "cell_type": "code",
      "metadata": {},
      "source": [
        "#| eval: false\n",
        "#| code-fold: true\n",
        "\n",
        "# Calculate the rate of low food security by race\n",
        "fss_21_race |>\n",
        "  group_by(PTDTRACE) |>\n",
        "  summarise(\n",
        "    fd_insec_weight = sum((HRFS12M1 %in% c(\"Low Food Security\", \"Very Low Food Security\")) * HHSUPWGT),\n",
        "    total_weight = sum(HHSUPWGT),\n",
        "    low_food_security_rate = fd_insec_weight / total_weight * 100\n",
        "    ) |>\n",
        "  ggplot() + \n",
        "    geom_col(mapping = aes(y = PTDTRACE, x = low_food_security_rate)) + \n",
        "  labs(\n",
        "    x = \"Low Food Security Rate\",\n",
        "    y = \"\"\n",
        "    )"
      ],
      "execution_count": null,
      "outputs": []
    },
    {
      "cell_type": "markdown",
      "metadata": {},
      "source": [
        "2. Calculate the percentage of LA County households in low food security in 2021."
      ]
    },
    {
      "cell_type": "code",
      "metadata": {},
      "source": [
        "#| eval: false\n",
        "#| code-fold: true\n",
        "\n",
        "# Find the State Code for California and the County Code for Los Angeles County\n",
        "state_names <- tigris::fips_codes |>\n",
        "  as_tibble() |>\n",
        "  filter(\n",
        "    state_name == \"California\",\n",
        "    county == \"Los Angeles County\"\n",
        "    ) |>\n",
        "  print()"
      ],
      "execution_count": null,
      "outputs": []
    },
    {
      "cell_type": "code",
      "metadata": {},
      "source": [
        "#| eval: false\n",
        "#| code-fold: true\n",
        "\n",
        "fss_21_status |>\n",
        "  # Filter for Los Angeles County\n",
        "  filter(GESTFIPS == \"6\" & GTCO == \"37\") |>\n",
        "  summarize(fd_insec_rate = sum(HRFS12M1_low) / sum(HRFS12M1_res)) |>\n",
        "  print()"
      ],
      "execution_count": null,
      "outputs": []
    },
    {
      "cell_type": "markdown",
      "metadata": {},
      "source": [
        "3.  How does COVID impact the food security status of households in the U.S.? Does the impact differ by state, race, household income, or other social-economic determinants?\n",
        "\n",
        "## Feedback\n",
        "\n",
        "```{=html}\n",
        "<iframe src=\"https://app.sli.do/event/aGHTYktNjhMJFDCe92w9Rt/embed/polls/b28b3d9a-c118-4e0c-ae6f-903aa7c9cea0\" width=\"75%\" height=\"400\" data-external=\"1\"></iframe>\n",
        "```\n",
        "\n",
        "[Slido](https://app.sli.do/event/aGHTYktNjhMJFDCe92w9Rt/embed/polls/b28b3d9a-c118-4e0c-ae6f-903aa7c9cea0)"
      ]
    }
  ],
  "metadata": {
    "kernelspec": {
      "name": "ir43",
      "language": "R",
      "display_name": "R 4.3.2"
    }
  },
  "nbformat": 4,
  "nbformat_minor": 4
}