{
  "cells": [
    {
      "cell_type": "raw",
      "metadata": {},
      "source": [
        "---\n",
        "title: Data Science and R\n",
        "author: 'Dr. Roch Nianogo, Bowen Zhang, Dr. Hua Zhou'\n",
        "format:\n",
        "  html:\n",
        "    theme: cosmo\n",
        "    embed-resources: true\n",
        "    number-sections: true\n",
        "    toc: true\n",
        "    toc-depth: 4\n",
        "    toc-location: left\n",
        "    code-fold: false\n",
        "    link-external-icon: true\n",
        "    link-external-newwindow: true\n",
        "knitr:\n",
        "  opts_chunk:\n",
        "    cache: false\n",
        "    echo: true\n",
        "    fig.align: center\n",
        "    message: false\n",
        "comments:\n",
        "  hypothesis: true\n",
        "---"
      ]
    },
    {
      "cell_type": "code",
      "metadata": {},
      "source": [
        "#| code-fold: true\n",
        "#| output: false\n",
        "\n",
        "# setup code: install packages\n",
        "library(tidyverse)"
      ],
      "execution_count": null,
      "outputs": []
    },
    {
      "cell_type": "markdown",
      "metadata": {},
      "source": [
        "## Poll\n",
        "\n",
        "[Slido](https://app.sli.do/event/aGHTYktNjhMJFDCe92w9Rt) or scan QR code\n",
        "\n",
        "![](slido_session_1.png){fig-align=\"center\"}\n",
        "\n",
        "## Roadmap\n",
        "\n",
        "A typical data science project:\n",
        "\n",
        "<p align=\"center\">\n",
        "\n",
        "<img src=\"./data-science.png\" width=\"80%\"/>\n",
        "\n",
        "</p>\n",
        "\n",
        "### Learning objectives\n",
        "\n",
        "In the next 1.5 days, we learn\n",
        "\n",
        "-   the life cycle of a data science project\n",
        "\n",
        "-   some R ecosystems (tidyverse, tidymodels) for Open Data Science\n",
        "\n",
        "-   basic machine learning\n",
        "\n",
        "-   policy evaluation using double machine learning\n",
        "\n",
        "Dr. Roch Nianogo will lead the second part, from June 25 afternoon to June 26, with in-depth discussions of simulation modeling, causal inference, and linking data science and systems science.\n",
        "\n",
        "### Course materials\n",
        "\n",
        "All course materials are available on [GitHub](https://github.com/NIH-R25-ModelersAndStoryTellers/2024). During the course, you can\n",
        "\n",
        "-   read the static [tutorial pages](https://github.com/NIH-R25-ModelersAndStoryTellers/2024), make comments, and ask questions; or\n",
        "\n",
        "-   interactively run `qmd` files in RStudio on [Posit Cloud](https://posit.cloud/spaces/522857/join?access_code=jp20j2u42A7Ygue-OICZ2U4S6IWZCnI5GFp0r_N9) (sign up for a free account); or\n",
        "\n",
        "-   interactively run `ipynb` files in Jupyter Notebook on [Binder](https://mybinder.org/v2/gh/NIH-R25-ModelersAndStoryTellers/binder-sandbox.git/main?urlpath=git-pull?repo=https://github.com/NIH-R25-ModelersAndStoryTellers/2024.git) (can be slow)\n",
        "\n",
        "Adventurous ones can reproduce, improve, and generalize all the examples **on your own computer** by the following steps:\n",
        "\n",
        "-   install [R](https://cran.r-project.org/), [RStudio](https://www.rstudio.com/products/rstudio/download/), and [Quarto](https://quarto.org/docs/get-started/)\n",
        "\n",
        "-   git clone the [course repository](https://github.com/NIH-R25-ModelersAndStoryTellers/2024)\n",
        "\n",
        "-   revise and render the qmd files\n",
        "\n",
        "### Questions please\n",
        "\n",
        "Please feel free to ask questions and make comments. You can\n",
        "\n",
        "-   use the \"raise hand\" feature (✋) in Zoom\n",
        "\n",
        "-   type your questions in the Zoom chat (💬)\n",
        "\n",
        "-   make comments or ask questions on tutorial pages (need to sign up an account on [hypothes.is](https://web.hypothes.is/))\n",
        "\n",
        "## Data source\n",
        "\n",
        "![Census Bureau](https://www.census.gov/etc.clientlibs/census/clientlibs/census-pattern-library/resources/images/USCENSUS_IDENTITY_SOLO_BLACK_1.5in_R_no_padding.svg){fig-align=\"center\" width=\"240\"}\n",
        "\n",
        "### Census and ACS\n",
        "\n",
        "US Constitution Article I, Sections 2 and 9:\n",
        "\n",
        "> The actual enumeration shall be made within three years after the first meeting of the Congress of the United States, and within every subsequent term of ten years, in such manner as they shall by law direct.\n",
        "\n",
        "-   **Decennial census data**. Every 10 years (1790, 1800, ..., 2010, 2020) administered by the [United States Census Bureau](https://www.census.gov/en.html). Complete enumeration of the US population to assist with *apportionment*. A limited set of questions on race, ethnicity, age, sex, and housing tenure.\n",
        "\n",
        "-   **American Community Survey (ACS)**. Before the 2010 decennial Census, 1 in 6 Americans also received the Census long form, which asked a wider range of demographic questions on income, education, language, housing, and more. The Census long form has since been replaced by the American Community Survey, which is now the premier source of detailed demographic information about the US population. The ACS is mailed to approximately 3.5 million households per year (around 3% of the US population), allowing for annual data updates. The Census Bureau releases two ACS datasets to the public:\n",
        "\n",
        "    -   **1-year ACS**: covers areas of population 65,000 and greater\n",
        "\n",
        "    -   **5-year ACS**: moving average of data over a 5-year period that covers geographies down to the Census block group.\n",
        "\n",
        "### Current population survey (CPS)\n",
        "\n",
        "The [Current Population Survey (CPS)](https://www.census.gov/programs-surveys/cps.html), sponsored jointly by the U.S. Census Bureau and the U.S. Bureau of Labor Statistics (BLS), is the primary source of labor force statistics for the population of the United States.\n",
        "\n",
        "The CPS is one of the oldest, largest, and most well-recognized surveys in the United States. It is immensely important, providing information on many of the things that define us as individuals and as a society – our work, our earnings, and our education.\n",
        "\n",
        "In addition to being the primary source of monthly labor force statistics, the CPS is used to collect data for a variety of other studies that keep the nation informed of the economic and social well-being of its people. This is done by adding a set of supplemental questions to the monthly basic CPS questions. Supplemental inquiries vary month to month and cover a wide variety of topics such as child support, volunteerism, health insurance coverage, school enrollment, and **food security**. A listing and brief description of the CPS supplements are available [here](https://www.census.gov/programs-surveys/cps/about/supplemental-surveys.html).\n",
        "\n",
        "### Food security supplement (CPS-FSS)\n",
        "\n",
        "Take the **CPS Food Security Supplement December 2021 Public-Use Microdata File** as an example. The Food Security Supplement was completed for 30,343 interviewed households with 71,571 person records.\n",
        "\n",
        "The microdata file includes data in four general categories:\n",
        "\n",
        "-   Monthly labor force survey data (geographic, demographic, income, employment)\n",
        "-   Food Security Supplement data (household food expenditures, use of food assistance programs, experiences and behaviors related to food security)\n",
        "-   Food security status\n",
        "-   Weighting variables\n",
        "\n",
        "Food Security Supplement Questionnaire includes the following major sections:\n",
        "\n",
        "-   Food Spending\n",
        "-   Minimum Food Spending Needed\n",
        "-   Food Assistance Program Participation\n",
        "-   Food Sufficiency and Food Security\n",
        "-   Ways of Avoiding or Ameliorating Food Deprivation\n",
        "\n",
        "It is worth noting that beginning in 2015 and continuing through 2021, there were changes from previous years in how the Census Bureau processes some variables. Details can be found in the technical documentation, which can be found [here](https://www.census.gov/data/datasets/time-series/demo/cps/cps-supp_cps-repwgt/cps-food-security.html)\n",
        "\n",
        "## Introduction to R\n",
        "\n",
        "### Tidyverse\n",
        "\n",
        "-   [tidyverse](https://www.tidyverse.org/) is a collection of R packages for data ingestion, wrangling, and visualization.\n",
        "\n",
        "::: {style=\"text-align: center;\"}\n",
        "<img src=\"https://hbctraining.github.io/Intro-to-R/img/tidyverse_website.png\" alt=\"Tidyverse\"/>\n",
        ":::\n",
        "\n",
        "The Tidyverse suite of packages create and use data structures, functions and operators to make working with data more intuitive. The two most basic changes are in the use of pipes and tibbles.\n",
        "\n",
        "-   The lead developer Hadley Wickham won the 2019 *COPSS Presidents’ Award* (the Nobel Prize of Statistics)\n",
        "\n",
        "> for influential work in statistical computing, visualization, graphics, and data analysis; for developing and implementing an impressively comprehensive computational infrastructure for data analysis through R software; for making statistical thinking and computing accessible to large audience; and for enhancing an appreciation for the important role of statistics among data scientists.\n",
        "\n",
        "#### Pipes\n",
        "\n",
        "Stringing together commands in R can be quite daunting. Also, trying to understand code that has many nested functions can be confusing.\n",
        "\n",
        "To make R code more human readable, the Tidyverse tools use the pipe, `%>%`, which was acquired from the **magrittr** package and comes installed automatically with Tidyverse. The pipe allows the output of a previous command to be used as input to another command instead of using nested functions."
      ]
    },
    {
      "cell_type": "code",
      "metadata": {},
      "source": [
        "# A single command\n",
        "sqrt(83)"
      ],
      "execution_count": null,
      "outputs": []
    },
    {
      "cell_type": "code",
      "metadata": {},
      "source": [
        "# Base R method of running more than one command\n",
        "round(sqrt(83), digit = 2)"
      ],
      "execution_count": null,
      "outputs": []
    },
    {
      "cell_type": "code",
      "metadata": {},
      "source": [
        "# Running more than one command with piping\n",
        "sqrt(83) %>% round(digit = 2)"
      ],
      "execution_count": null,
      "outputs": []
    },
    {
      "cell_type": "markdown",
      "metadata": {},
      "source": [
        "The pipe represents a much easier way of writing and deciphering R code, and we will be taking advantage of it for all future activities.\n",
        "\n",
        "::: callout-tip\n",
        "R 4.1.0 introduced a native pipe operator `|>`, which is mostly compatible with the pipe `%>%` offered by the tidyverse package magrittr. For some subtle differences, see this [post](https://www.tidyverse.org/blog/2023/04/base-vs-magrittr-pipe/) by Hadley Wickham.\n",
        ":::"
      ]
    },
    {
      "cell_type": "code",
      "metadata": {},
      "source": [
        "# R base pipe\n",
        "sqrt(83) |> round(digit = 2)"
      ],
      "execution_count": null,
      "outputs": []
    },
    {
      "cell_type": "markdown",
      "metadata": {},
      "source": [
        "#### Tibbles\n",
        "\n",
        "A core component of the tidyverse is the tibble. Tibbles are a modern rework of the standard data.frame, with some internal improvements to make code more reliable. They are data frames, but do not follow all of the same rules. For example, tibbles can have column names that are not normally allowed, such as numbers/symbols.\n",
        "\n",
        "The main differences between tibbles and data.frames relate to printing and subsetting.\n",
        "\n",
        "-   `iris` is a data frame available in base R\n",
        "\n",
        "::: {style=\"text-align: center;\"}\n",
        "<img src=\"https://miro.medium.com/v2/resize:fit:1100/format:webp/1*ZK9_HrpP_lhSzTq9xVJUQw.png\" alt=\"iris\" width=\"500\"/>\n",
        ":::"
      ]
    },
    {
      "cell_type": "code",
      "metadata": {},
      "source": [
        "# By default, R displays ALL rows of a regular data frame!\n",
        "iris"
      ],
      "execution_count": null,
      "outputs": []
    },
    {
      "cell_type": "markdown",
      "metadata": {},
      "source": [
        "-   Convert a regular data frame to tibble, which by default only displays the first 10 rows of data."
      ]
    },
    {
      "cell_type": "code",
      "metadata": {},
      "source": [
        "# Convert iris to a tibble\n",
        "iris_tb <- as_tibble(iris)\n",
        "iris_tb"
      ],
      "execution_count": null,
      "outputs": []
    },
    {
      "cell_type": "code",
      "metadata": {},
      "source": [
        "# If subsetting a single column from a data.frame, R will output a vector\n",
        "iris[, \"Sepal.Length\"]"
      ],
      "execution_count": null,
      "outputs": []
    },
    {
      "cell_type": "code",
      "metadata": {},
      "source": [
        "# If subsetting a single column from a tibble, R will output a tibble\n",
        "iris_tb[, \"Sepal.Length\"]"
      ],
      "execution_count": null,
      "outputs": []
    },
    {
      "cell_type": "markdown",
      "metadata": {},
      "source": [
        "Also note that if you use piping to subset a tibble, then the notation is slightly different, requiring a placeholder `.` prior to the `[ ]` or `$`."
      ]
    },
    {
      "cell_type": "code",
      "metadata": {},
      "source": [
        "#| eval: false\n",
        "\n",
        "# Return a vector\n",
        "iris_tb$Sepal.Length\n",
        "iris_tb[[\"Sepal.Length\"]]\n",
        "iris_tb[[1]]\n",
        "\n",
        "# Return a tibble\n",
        "iris_tb[, \"Sepal.Length\"]\n",
        "iris_tb[, 1]\n",
        "\n",
        "# Use piping\n",
        "iris_tb %>% .$Sepal.Length\n",
        "iris_tb %>% .[, \"Sepal.Length\"]"
      ],
      "execution_count": null,
      "outputs": []
    },
    {
      "cell_type": "markdown",
      "metadata": {},
      "source": [
        "#### dplyr\n",
        "\n",
        "The most useful tool in the tidyverse is dplyr. It’s a Swiss-army knife for data wrangling. dplyr has many handy functions that we recommend incorporating into your analysis.\n",
        "\n",
        "-   Operations on rows:\n",
        "    -   `arrange()` changes the ordering of the rows.\n",
        "    -   `filter()` picks cases based on their values.\n",
        "    -   `distinct()` removes duplicate entries.\n",
        "    -   `slice_*()` selects rows by position.\n",
        "-   Operations on columns:\n",
        "    -   `select()` extracts columns and returns a tibble.\n",
        "    -   `mutate()` adds new variables that are functions of existing variables.\n",
        "    -   `rename()` easily changes the name of a column(s).\n",
        "    -   `pull()` extracts a single column as a vector.\n",
        "-   Grouped operations:\n",
        "    -   `group_by()` aggregates data by one or more variables.\n",
        "    -   `summarise()` reduces multiple values down to a single summary.\n",
        "-   `_join()` functions that merge two data frames together, including `inner_join()`, `left_join()`, `right_join()`, and `full_join()`.\n",
        "\n",
        "The [Posit dplyr cheat sheet](https://rstudio.github.io/cheatsheets/data-transformation.pdf) is extremely intuitive and helpful.\n",
        "\n",
        "Some examples of using dplyr functions.\n",
        "\n",
        "-   Filter observations with `Sepal.Length` greater than 5.0, arrange the data by `Sepal.Length` in descending, and create a new column `Sepal.Length_2` that is the square of `Sepal.Length`."
      ]
    },
    {
      "cell_type": "code",
      "metadata": {},
      "source": [
        "iris_tb |>\n",
        "  filter(Sepal.Length > 5.0) |>\n",
        "  arrange(desc(Sepal.Length)) |>\n",
        "  mutate(Sepal.Length_2 = Sepal.Length^2) |>\n",
        "  print()"
      ],
      "execution_count": null,
      "outputs": []
    },
    {
      "cell_type": "markdown",
      "metadata": {},
      "source": [
        "-   Select columns `Species`, and find the distinct values of `Species`"
      ]
    },
    {
      "cell_type": "code",
      "metadata": {},
      "source": [
        "iris_tb |>\n",
        "  select(Species) |>\n",
        "  distinct()"
      ],
      "execution_count": null,
      "outputs": []
    },
    {
      "cell_type": "markdown",
      "metadata": {},
      "source": [
        "-   Count the number of rows in each species"
      ]
    },
    {
      "cell_type": "code",
      "metadata": {},
      "source": [
        "iris_tb |>\n",
        "  group_by(Species) |> \n",
        "  summarize(n = n())"
      ],
      "execution_count": null,
      "outputs": []
    },
    {
      "cell_type": "code",
      "metadata": {},
      "source": [
        "# Shortcut for group_by() |> summarize(n = n())\n",
        "iris_tb |>\n",
        "  count(Species)"
      ],
      "execution_count": null,
      "outputs": []
    },
    {
      "cell_type": "markdown",
      "metadata": {},
      "source": [
        "-   Calculate the mean of `Sepal.Length` for each `Species`"
      ]
    },
    {
      "cell_type": "code",
      "metadata": {},
      "source": [
        "iris_tb |>\n",
        "  group_by(Species) |>\n",
        "  summarize(mean_Sepal_Length = mean(Sepal.Length))"
      ],
      "execution_count": null,
      "outputs": []
    },
    {
      "cell_type": "markdown",
      "metadata": {},
      "source": [
        "-   Find the observation with the maximum `Sepal.Length` for each `Species`"
      ]
    },
    {
      "cell_type": "code",
      "metadata": {},
      "source": [
        "iris_tb |>\n",
        "  group_by(Species) |>\n",
        "  slice_max(Sepal.Length)"
      ],
      "execution_count": null,
      "outputs": []
    },
    {
      "cell_type": "markdown",
      "metadata": {},
      "source": [
        "#### Combine variables (columns)\n",
        "\n",
        "-   Demo tables"
      ]
    },
    {
      "cell_type": "code",
      "metadata": {},
      "source": [
        "(x <- tribble(\n",
        "  ~key, ~val_x,\n",
        "  1, \"x1\",\n",
        "  2, \"x2\",\n",
        "  3, \"x3\"\n",
        "))"
      ],
      "execution_count": null,
      "outputs": []
    },
    {
      "cell_type": "code",
      "metadata": {},
      "source": [
        "(y <- tribble(\n",
        "  ~key, ~val_y,\n",
        "  1, \"y1\",\n",
        "  2, \"y2\",\n",
        "  4, \"y3\"\n",
        "))"
      ],
      "execution_count": null,
      "outputs": []
    },
    {
      "cell_type": "markdown",
      "metadata": {},
      "source": [
        "-   An **inner join** matches pairs of observations whenever their keys are equal:\n",
        "\n",
        "<p align=\"center\">\n",
        "\n",
        "<img src=\"./join-inner.png\" height=\"150\"/>\n",
        "\n",
        "</p>"
      ]
    },
    {
      "cell_type": "code",
      "metadata": {},
      "source": [
        "inner_join(x, y, by = \"key\")"
      ],
      "execution_count": null,
      "outputs": []
    },
    {
      "cell_type": "markdown",
      "metadata": {},
      "source": [
        "-   An **outer join** keeps observations that appear in at least one of the tables.\n",
        "\n",
        "-   Three types of outer joins: **left join**, **right join**, and **full join**.\n",
        "\n",
        "<p align=\"center\">\n",
        "\n",
        "<img src=\"./join-outer.png\" width=\"50%\"/>\n",
        "\n",
        "</p>\n",
        "\n",
        "-   A **left join** keeps all observations in `x`."
      ]
    },
    {
      "cell_type": "code",
      "metadata": {},
      "source": [
        "left_join(x, y, by = \"key\")"
      ],
      "execution_count": null,
      "outputs": []
    },
    {
      "cell_type": "markdown",
      "metadata": {},
      "source": [
        "-   A **right join** keeps all observations in `y`."
      ]
    },
    {
      "cell_type": "code",
      "metadata": {},
      "source": [
        "right_join(x, y, by = \"key\")"
      ],
      "execution_count": null,
      "outputs": []
    },
    {
      "cell_type": "markdown",
      "metadata": {},
      "source": [
        "-   A **full join** keeps all observations in `x` and `y`."
      ]
    },
    {
      "cell_type": "code",
      "metadata": {},
      "source": [
        "full_join(x, y, by = \"key\")"
      ],
      "execution_count": null,
      "outputs": []
    },
    {
      "cell_type": "markdown",
      "metadata": {},
      "source": [
        "-   One table has duplicate keys.\n",
        "\n",
        "<p align=\"center\">\n",
        "\n",
        "<img src=\"./join-one-to-many.png\" height=\"200\"/>\n",
        "\n",
        "</p>"
      ]
    },
    {
      "cell_type": "code",
      "metadata": {},
      "source": [
        "x <- tribble(\n",
        "  ~key, ~val_x,\n",
        "  1, \"x1\",\n",
        "  2, \"x2\",\n",
        "  2, \"x3\",\n",
        "  1, \"x4\"\n",
        ")\n",
        "y <- tribble(\n",
        "  ~key, ~val_y,\n",
        "  1, \"y1\",\n",
        "  2, \"y2\"\n",
        ")\n",
        "left_join(x, y, by = \"key\")"
      ],
      "execution_count": null,
      "outputs": []
    },
    {
      "cell_type": "markdown",
      "metadata": {},
      "source": [
        "-   Both tables have duplicate keys. You get all possible combinations, the Cartesian product:\n",
        "\n",
        "<p align=\"center\">\n",
        "\n",
        "<img src=\"./join-many-to-many.png\" height=\"250\"/>\n",
        "\n",
        "</p>"
      ]
    },
    {
      "cell_type": "code",
      "metadata": {},
      "source": [
        "x <- tribble(\n",
        "  ~key, ~val_x,\n",
        "  1, \"x1\",\n",
        "  2, \"x2\",\n",
        "  2, \"x3\",\n",
        "  3, \"x4\"\n",
        ")\n",
        "y <- tribble(\n",
        "  ~key, ~val_y,\n",
        "  1, \"y1\",\n",
        "  2, \"y2\",\n",
        "  2, \"y3\",\n",
        "  3, \"y4\"\n",
        ")\n",
        "\n",
        "left_join(x, y, by = \"key\")"
      ],
      "execution_count": null,
      "outputs": []
    },
    {
      "cell_type": "markdown",
      "metadata": {},
      "source": [
        "#### Combine cases (rows)\n",
        "\n",
        "-   `semi_join(x, y)` keeps the rows in `x` that have a match in `y`.\n",
        "\n",
        "<p align=\"center\">\n",
        "\n",
        "<img src=\"./join-semi.png\" height=\"200\"/>\n",
        "\n",
        "</p>"
      ]
    },
    {
      "cell_type": "code",
      "metadata": {},
      "source": [
        "x <- tribble(\n",
        "  ~key, ~val_x,\n",
        "  1, \"x1\",\n",
        "  2, \"x2\",\n",
        "  3, \"x3\"\n",
        ")\n",
        "\n",
        "y <- tribble(\n",
        "  ~key, ~val_y,\n",
        "  1, \"y1\",\n",
        "  2, \"y2\",\n",
        "  4, \"y3\"\n",
        ")\n",
        "\n",
        "semi_join(x, y, by = \"key\")"
      ],
      "execution_count": null,
      "outputs": []
    },
    {
      "cell_type": "markdown",
      "metadata": {},
      "source": [
        "-   `anti_join(x, y)` keeps the rows that don’t have a match.\n",
        "\n",
        "<p align=\"center\">\n",
        "\n",
        "<img src=\"./join-anti.png\" height=\"200\"/>\n",
        "\n",
        "</p>"
      ]
    },
    {
      "cell_type": "code",
      "metadata": {},
      "source": [
        "anti_join(x, y, by = \"key\")"
      ],
      "execution_count": null,
      "outputs": []
    },
    {
      "cell_type": "markdown",
      "metadata": {},
      "source": [
        "### Data visualization using ggplot\n",
        "\n",
        "-   `ggplot2` is a powerful and flexible package for creating plots in R.\n",
        "\n",
        "-   The basic idea is to map data to aesthetics (color, shape, size, etc.) and then add layers (points, lines, bars, etc.) to the plot."
      ]
    },
    {
      "cell_type": "code",
      "metadata": {},
      "source": [
        "ggplot(iris_tb) +\n",
        "  # Scatter plot\n",
        "  geom_point(mapping = aes(\n",
        "    x = Petal.Length, \n",
        "    y = Petal.Width, \n",
        "    color = Species\n",
        "    )) + \n",
        "  # Add one more layer of line plot\n",
        "  geom_smooth(mapping = aes(\n",
        "    x = Petal.Length, \n",
        "    y = Petal.Width, \n",
        "    color = Species\n",
        "    )) +\n",
        "  # Axis labels, title, caption, etc\n",
        "  labs(x = \"Petal Length (cm)\",\n",
        "       y = \"Petal Width (cm)\",\n",
        "  )"
      ],
      "execution_count": null,
      "outputs": []
    },
    {
      "cell_type": "markdown",
      "metadata": {},
      "source": [
        "-   Again the [Posit ggplot2 cheat sheet](https://rstudio.github.io/cheatsheets/data-visualization.pdf) is extremely intuitive and helpful.\n",
        "-   Interactive plots are easily achieved by `plotly` package. Interactive apps can be developed by the popular `shiny` package.\n",
        "\n",
        "### Exercises\n",
        "\n",
        "1.  Find the median `Petal.Length` of each Iris species."
      ]
    },
    {
      "cell_type": "code",
      "metadata": {
        "md-indent": "    "
      },
      "source": [
        "# try to use pipe"
      ],
      "execution_count": null,
      "outputs": []
    },
    {
      "cell_type": "markdown",
      "metadata": {},
      "source": [
        "2.  Plot the histograms of `Petal.Length`, grouped by `Species`."
      ]
    },
    {
      "cell_type": "code",
      "metadata": {
        "md-indent": "    "
      },
      "source": [
        "# geom_histogram"
      ],
      "execution_count": null,
      "outputs": []
    }
  ],
  "metadata": {
    "kernelspec": {
      "name": "ir43",
      "language": "R",
      "display_name": "R 4.3.2"
    }
  },
  "nbformat": 4,
  "nbformat_minor": 4
}